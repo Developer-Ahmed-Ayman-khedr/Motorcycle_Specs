import pandas as pd
import numpy as np


filepath = "SourceData/all_bikez_curated.csv"
df = pd.read_csv(filepath)
df.head(10)


df.describe()


print(df.dtypes)


print(df.info())


print(df.isna().sum())


df.replace('?',np.nan,inplace=True)
df.replace('0',np.nan,inplace=True)


# drop the row with missing model
df.dropna(subset=['Model'], axis=0, inplace=True)
print(df.isna().sum())
df.head(5)


# drop the row with missing model
df.dropna(subset=['Engine stroke'], axis=0, inplace=True)
print(df.isna().sum())
df.head(5)


df['Year'].unique()









